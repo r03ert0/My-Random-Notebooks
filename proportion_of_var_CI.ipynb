{
 "cells": [
  {
   "cell_type": "markdown",
   "metadata": {},
   "source": [
    "## Confidence interval for the proportion of variance : assume a beta distribution"
   ]
  },
  {
   "cell_type": "code",
   "execution_count": 1,
   "metadata": {
    "collapsed": false
   },
   "outputs": [],
   "source": [
    "import matplotlib.pyplot as plt\n",
    "import numpy as np\n",
    "import scipy.stats as sst\n",
    "from __future__ import print_function"
   ]
  },
  {
   "cell_type": "code",
   "execution_count": 2,
   "metadata": {
    "collapsed": false
   },
   "outputs": [],
   "source": [
    "# example of proportion of variance\n",
    "propE = .42\n",
    "propStd = .24\n",
    "propVar = propStd*propStd"
   ]
  },
  {
   "cell_type": "markdown",
   "metadata": {},
   "source": [
    "Match the two coeff of a beta:\n",
    "http://en.wikipedia.org/wiki/Beta_distribution\n",
    "\n",
    "$$\n",
    "V(X) = \\frac{\\alpha\\beta}{(\\alpha + \\beta)^2(\\alpha + \\beta +1)}\n",
    "\\\\\n",
    "E(X) = \\frac{\\alpha}{(\\alpha + \\beta)}\n",
    "$$\n",
    "\n",
    "which gives us:\n",
    "\n",
    "$$\n",
    "\\beta = \\frac{\\phi - a}{\\psi a}\n",
    "\\\\\n",
    "\\alpha = \\phi \\beta\n",
    "\\\\\n",
    "\\textrm{With} \\;\\; \\phi = \\frac{E(x)}{1-E(x)} \\textrm{ , }\\;\\; \\psi = \\phi + 1\n",
    "\\;\\;  \\textrm{, and} \\;\\;\\; a = \\psi^2 V(x)\n",
    "$$"
   ]
  },
  {
   "cell_type": "markdown",
   "metadata": {},
   "source": [
    "The problem is that we may end up with negative parameters for the beta distrib. That's not good ...\n",
    "So, in that case - I fudge the parameters to keep the mean of the distribution correct  ... but the variance can be way off of course - so see the check "
   ]
  },
  {
   "cell_type": "code",
   "execution_count": 3,
   "metadata": {
    "collapsed": false
   },
   "outputs": [],
   "source": [
    "def beta_param(E,V, fudge=True):\n",
    "    \"\"\"\n",
    "    E: expected value (the mean)\n",
    "    V: variance\n",
    "    \"\"\"\n",
    "    \n",
    "    phi = E/(1-E)\n",
    "    psi = phi + 1\n",
    "    a = psi**2 * V\n",
    "    if fudge and (phi <= a):\n",
    "        beta = .001    \n",
    "        print(\"\\n Possible heavy fudging \\n\")\n",
    "    else:\n",
    "        beta = (phi - a)/(psi * a)\n",
    "    alpha = phi * beta\n",
    "    return alpha, beta\n",
    "\n",
    "def mean_var(alpha, beta):\n",
    "    \"\"\"\n",
    "    mean and var of beta\n",
    "    \"\"\"\n",
    "    E = alpha/(alpha + beta)\n",
    "    alpbet = alpha + beta\n",
    "    V = alpha*beta/(alpbet**2 * (alpbet +1))\n",
    "    return E,V"
   ]
  },
  {
   "cell_type": "code",
   "execution_count": 4,
   "metadata": {
    "collapsed": false
   },
   "outputs": [],
   "source": [
    "(propE, propV) = (.42, .24**2)\n",
    "\n",
    "# compute parameters of the beta distrib\n",
    "al, bet = beta_param(propE, propV)"
   ]
  },
  {
   "cell_type": "code",
   "execution_count": 5,
   "metadata": {
    "collapsed": false
   },
   "outputs": [
    {
     "name": "stdout",
     "output_type": "stream",
     "text": [
      "parameters alpha and betat of the distrib: 1.35625 1.87291666667\n"
     ]
    }
   ],
   "source": [
    "print(\"parameters alpha and betat of the distrib:\",al,bet)"
   ]
  },
  {
   "cell_type": "code",
   "execution_count": 6,
   "metadata": {
    "collapsed": false
   },
   "outputs": [
    {
     "name": "stdout",
     "output_type": "stream",
     "text": [
      " approx mean and variance of the distrib: 0.4200,0.0576\n",
      " to be compared to: 0.4200,0.0576\n"
     ]
    }
   ],
   "source": [
    "print(\" approx mean and variance of the distrib: {:.4f},{:.4f}\".format(*(mean_var(al, bet))))\n",
    "print(\" to be compared to: {:.4f},{:.4f}\".format(propE, propV))"
   ]
  },
  {
   "cell_type": "markdown",
   "metadata": {},
   "source": [
    "now, what's a 95\\% CI for this beta distrib ?"
   ]
  },
  {
   "cell_type": "code",
   "execution_count": 7,
   "metadata": {
    "collapsed": false
   },
   "outputs": [],
   "source": [
    "betadist = sst.beta(al,bet)"
   ]
  },
  {
   "cell_type": "code",
   "execution_count": 10,
   "metadata": {
    "collapsed": false
   },
   "outputs": [
    {
     "name": "stdout",
     "output_type": "stream",
     "text": [
      "95% Confidence Interval = [0.04 - 0.89]\n",
      "80% Confidence Interval = [0.11 - 0.76]\n"
     ]
    }
   ],
   "source": [
    "print(\"95% Confidence Interval = [{:3.2f} - {:3.2f}]\".format(betadist.ppf(.025),betadist.ppf(.975)))\n",
    "print(\"80% Confidence Interval = [{:3.2f} - {:3.2f}]\".format(betadist.ppf(.1),betadist.ppf(.9)))"
   ]
  },
  {
   "cell_type": "code",
   "execution_count": 9,
   "metadata": {
    "collapsed": false
   },
   "outputs": [
    {
     "data": {
      "text/plain": [
       "[<matplotlib.lines.Line2D at 0x3901d90>]"
      ]
     },
     "execution_count": 9,
     "metadata": {},
     "output_type": "execute_result"
    },
    {
     "data": {
      "image/png": "[encoded data removed]",
      "text/plain": [
       "<matplotlib.figure.Figure at 0x38dd150>"
      ]
     },
     "metadata": {},
     "output_type": "display_data"
    }
   ],
   "source": [
    "# plot the pdf to see how it looks ... \n",
    "x = np.linspace(0,1,50)\n",
    "plt.plot(x, betadist.pdf(x))"
   ]
  }
 ],
 "metadata": {
  "kernelspec": {
   "display_name": "Python 3",
   "language": "python",
   "name": "python3"
  },
  "language_info": {
   "codemirror_mode": {
    "name": "ipython",
    "version": 3
   },
   "file_extension": ".py",
   "mimetype": "text/x-python",
   "name": "python",
   "nbconvert_exporter": "python",
   "pygments_lexer": "ipython3",
   "version": "3.6.4"
  }
 },
 "nbformat": 4,
 "nbformat_minor": 2
}
