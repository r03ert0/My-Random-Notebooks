{
 "cells": [
  {
   "cell_type": "code",
   "execution_count": 1,
   "metadata": {
    "collapsed": true
   },
   "outputs": [],
   "source": [
    "from IPython.display import Javascript, display, HTML"
   ]
  },
  {
   "cell_type": "code",
   "execution_count": 5,
   "metadata": {},
   "outputs": [
    {
     "data": {
      "application/javascript": [
       "window.numberOfCellWithName = function numberOfCellWithName(name) {\n",
       "  var num=-1;\n",
       "    $(\".cell\").map(function(i,c) {\n",
       "    var k=$(c).find(\".cm-comment\").text();\n",
       "    if(k.search(/#name=/i)==0) {\n",
       "        if(k.split('=')[1]==name) {\n",
       "            num=i;\n",
       "        }\n",
       "    }\n",
       "  });\n",
       "    return num;\n",
       "}\n",
       "window.execute=function execute(name) {\n",
       "    // evaluate the expression and clear\n",
       "    var num=numberOfCellWithName(name);\n",
       "    if(num<0) {\n",
       "        alert(\"There's no cell named '\"+name+\"'\");\n",
       "        return;\n",
       "    }\n",
       "    Jupyter.notebook.get_cell(num).execute(); // This will execute the cell with the given name\n",
       "}"
      ],
      "text/plain": [
       "<IPython.core.display.Javascript object>"
      ]
     },
     "metadata": {},
     "output_type": "display_data"
    }
   ],
   "source": [
    "%%javascript\n",
    "window.numberOfCellWithName = function numberOfCellWithName(name) {\n",
    "  var num=-1;\n",
    "    $(\".cell\").map(function(i,c) {\n",
    "    var k=$(c).find(\".cm-comment\").text();\n",
    "    if(k.search(/#name=/i)==0) {\n",
    "        if(k.split('=')[1]==name) {\n",
    "            num=i;\n",
    "        }\n",
    "    }\n",
    "  });\n",
    "    return num;\n",
    "}\n",
    "window.execute=function execute(name) {\n",
    "    // evaluate the expression and clear\n",
    "    var num=numberOfCellWithName(name);\n",
    "    if(num<0) {\n",
    "        alert(\"There's no cell named '\"+name+\"'\");\n",
    "        return;\n",
    "    }\n",
    "    Jupyter.notebook.get_cell(num).execute(); // This will execute the cell with the given name\n",
    "}"
   ]
  },
  {
   "cell_type": "markdown",
   "metadata": {},
   "source": [
    "# I'm aiming at displaying a brain\n",
    "\n",
    "dsfgljhgasd gdsfl lkdfgshkl dfslkjdsfgh dfslkj gdfs"
   ]
  },
  {
   "cell_type": "code",
   "execution_count": 6,
   "metadata": {},
   "outputs": [
    {
     "data": {
      "text/html": [
       "\n",
       "<script src=\"https://rawgit.com/SIMEXP/brainsprite.js/master/assets/brainsprite.min.js\"></script>\n",
       "<div>\n",
       "  <canvas id=\"3Dviewer\"></canvas>\n",
       "  <img id=\"spriteImg\" class=\"hidden\" src=\"https://rawgit.com/SIMEXP/brainsprite.js/master/tests/sprite.jpg\" />\n",
       "</div>\n",
       "<script>\n",
       "  window.brain=brainsprite({\n",
       "    canvas: \"3Dviewer\",\n",
       "    sprite:\"spriteImg\",\n",
       "    nbSlice:{Y:233,Z:189}\n",
       "  });\n",
       "  /*\n",
       "  // use this for continuous update\n",
       "  brain.clickBrainOrig=brain.clickBrain;\n",
       "  brain.clickBrain=function clickBrain(e) {\n",
       "      brain.clickBrainOrig(e);\n",
       "      Jupyter.notebook.kernel.execute(\"X=\"+brain.coordinatesSlice.X);\n",
       "      Jupyter.notebook.kernel.execute(\"Y=\"+brain.coordinatesSlice.Y);\n",
       "      Jupyter.notebook.kernel.execute(\"Z=\"+brain.coordinatesSlice.Z);\n",
       "  }\n",
       "  */\n",
       "  // use this for update on mouse up\n",
       "  brain.canvas.addEventListener('mouseup', function(e) {\n",
       "      Jupyter.notebook.kernel.execute(\"X=\"+brain.coordinatesSlice.X);\n",
       "      Jupyter.notebook.kernel.execute(\"Y=\"+brain.coordinatesSlice.Y);\n",
       "      Jupyter.notebook.kernel.execute(\"Z=\"+brain.coordinatesSlice.Z);\n",
       "      execute(\"printCoordinate\");\n",
       "    }, false);\n",
       "</script>\n"
      ],
      "text/plain": [
       "<IPython.core.display.HTML object>"
      ]
     },
     "metadata": {},
     "output_type": "display_data"
    }
   ],
   "source": [
    "display(HTML('''\n",
    "<script src=\"https://rawgit.com/SIMEXP/brainsprite.js/master/assets/brainsprite.min.js\"></script>\n",
    "<div>\n",
    "  <canvas id=\"3Dviewer\"></canvas>\n",
    "  <img id=\"spriteImg\" class=\"hidden\" src=\"https://rawgit.com/SIMEXP/brainsprite.js/master/tests/sprite.jpg\" />\n",
    "</div>\n",
    "<script>\n",
    "  window.brain=brainsprite({\n",
    "    canvas: \"3Dviewer\",\n",
    "    sprite:\"spriteImg\",\n",
    "    nbSlice:{Y:233,Z:189}\n",
    "  });\n",
    "  /*\n",
    "  // use this for continuous update\n",
    "  brain.clickBrainOrig=brain.clickBrain;\n",
    "  brain.clickBrain=function clickBrain(e) {\n",
    "      brain.clickBrainOrig(e);\n",
    "      Jupyter.notebook.kernel.execute(\"X=\"+brain.coordinatesSlice.X);\n",
    "      Jupyter.notebook.kernel.execute(\"Y=\"+brain.coordinatesSlice.Y);\n",
    "      Jupyter.notebook.kernel.execute(\"Z=\"+brain.coordinatesSlice.Z);\n",
    "  }\n",
    "  */\n",
    "  // use this for update on mouse up\n",
    "  brain.canvas.addEventListener('mouseup', function(e) {\n",
    "      Jupyter.notebook.kernel.execute(\"X=\"+brain.coordinatesSlice.X);\n",
    "      Jupyter.notebook.kernel.execute(\"Y=\"+brain.coordinatesSlice.Y);\n",
    "      Jupyter.notebook.kernel.execute(\"Z=\"+brain.coordinatesSlice.Z);\n",
    "      execute(\"printCoordinate\");\n",
    "    }, false);\n",
    "</script>\n",
    "'''));\n"
   ]
  },
  {
   "cell_type": "code",
   "execution_count": 4,
   "metadata": {},
   "outputs": [
    {
     "ename": "NameError",
     "evalue": "name 'X' is not defined",
     "output_type": "error",
     "traceback": [
      "\u001b[0;31m---------------------------------------------------------------------------\u001b[0m",
      "\u001b[0;31mNameError\u001b[0m                                 Traceback (most recent call last)",
      "\u001b[0;32m<ipython-input-4-109b21c67031>\u001b[0m in \u001b[0;36m<module>\u001b[0;34m()\u001b[0m\n\u001b[1;32m      1\u001b[0m \u001b[0;31m#name=printCoordinate\u001b[0m\u001b[0;34m\u001b[0m\u001b[0;34m\u001b[0m\u001b[0m\n\u001b[0;32m----> 2\u001b[0;31m \u001b[0mprint\u001b[0m\u001b[0;34m(\u001b[0m\u001b[0mX\u001b[0m\u001b[0;34m,\u001b[0m\u001b[0mY\u001b[0m\u001b[0;34m,\u001b[0m\u001b[0mZ\u001b[0m\u001b[0;34m)\u001b[0m\u001b[0;34m;\u001b[0m\u001b[0;34m\u001b[0m\u001b[0m\n\u001b[0m",
      "\u001b[0;31mNameError\u001b[0m: name 'X' is not defined"
     ]
    }
   ],
   "source": [
    "#name=printCoordinate\n",
    "print(X,Y,Z);"
   ]
  },
  {
   "cell_type": "code",
   "execution_count": null,
   "metadata": {
    "collapsed": true
   },
   "outputs": [],
   "source": []
  }
 ],
 "metadata": {
  "kernelspec": {
   "display_name": "Python 3",
   "language": "python",
   "name": "python3"
  },
  "language_info": {
   "codemirror_mode": {
    "name": "ipython",
    "version": 3
   },
   "file_extension": ".py",
   "mimetype": "text/x-python",
   "name": "python",
   "nbconvert_exporter": "python",
   "pygments_lexer": "ipython3",
   "version": "3.6.4"
  }
 },
 "nbformat": 4,
 "nbformat_minor": 2
}
