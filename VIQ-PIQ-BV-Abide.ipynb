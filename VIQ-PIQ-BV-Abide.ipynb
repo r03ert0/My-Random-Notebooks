{
 "cells": [
  {
   "cell_type": "markdown",
   "metadata": {},
   "source": [
    "# Effect of IQ matching\n",
    "\n",
    "Verbal and performance IQ correlate with brain size in the general population. In ASD patients, however, verbal IQ does not seem to correlate with brain size. On the other hand, many studies of the neuroanatomy of autism match their case and control groups by IQ. Can this matching induce an overrepresentation of subjects with large brain volume among cases, and an underrepresentation of small brain volumes among controls?\n",
    "\n",
    "We test this possibility by simulating two populations, one following the covariance pattern between VIQ, PIQ and BV observed among controls, the other following the covariance pattern observed among patients. The two populations are then ,matched by Full IQ (=(VIQ+PIQ)/2), and I look at the change in the power to find a difference in brain volume as a function of sample size.\n",
    "\n",
    "\n",
    "## Import data\n",
    "\n",
    "<b>data</b>: Nx4 matrix, 1 row per subject, 4 columns: Dx (1:ASD, 2:Ctrl), VIQ, PIQ, BV (mm3)<br>\n",
    "    <b>ASD</b>: N<sub>asd</sub> vector, indices of ASD subjects within <b>data</b>\n",
    "    <b>Ctrl</b>: N<sub>ctrl</sub> vector, indexes of Control subjects within <b>data</b>\n",
    "</p>"
   ]
  },
  {
   "cell_type": "code",
   "execution_count": 1,
   "metadata": {
    "collapsed": false
   },
   "outputs": [
    {
     "name": "stdout",
     "output_type": "stream",
     "text": [
      "Populating the interactive namespace from numpy and matplotlib\n"
     ]
    }
   ],
   "source": [
    "%pylab inline\n",
    "\n",
    "import numpy as np\n",
    "import scipy.linalg as lin\n",
    "import scipy.stats as sst\n",
    "import pylab\n",
    "\n",
    "# 1. Import the data, find ASD and Ctrl subjects\n",
    "# columns are: Diagnostic, VIQ, PIQ, BV\n",
    "data=np.genfromtxt(\"http://localhost/cc/data/viq-piq-bv.txt\",skip_header=1);\n",
    "ASD=np.nonzero(data[:,0]==1)[0]\n",
    "Ctrl=np.nonzero(data[:,0]==2)[0]"
   ]
  },
  {
   "cell_type": "markdown",
   "metadata": {},
   "source": [
    "##Compute covariance matrices\n",
    "<b>VA</b>: 3x3 matrix, covariance matrix between VIQ, PIQ and BV for ASD subjects<br>\n",
    "<b>VC</b>: 3x3 matrix, covariance matrix between VIQ, PIQ, BV for Control subjects<br>"
   ]
  },
  {
   "cell_type": "code",
   "execution_count": 2,
   "metadata": {
    "collapsed": false
   },
   "outputs": [
    {
     "name": "stdout",
     "output_type": "stream",
     "text": [
      "ASD means\n",
      "[ 100  110 1100]\n",
      "Ctrl means\n",
      "[ 110  110 1100]\n",
      "ASD covariance\n",
      "[[   225.     112.5      0. ]\n",
      " [   112.5    225.     450. ]\n",
      " [     0.     450.   10000. ]]\n",
      "Ctrl covariance matrix\n",
      "[[   225.     112.5    450. ]\n",
      " [   112.5    225.     450. ]\n",
      " [   450.     450.   10000. ]]\n"
     ]
    }
   ],
   "source": [
    "1# 2. Compute means and covariance matrices\n",
    "if 0:\n",
    "    # observed statistics\n",
    "    muA=np.mean(data[ ASD,1:],axis=0);\n",
    "    muC=np.mean(data[Ctrl,1:],axis=0);\n",
    "    VA=np.cov(data[ASD,1:],rowvar=0);\n",
    "    VC=np.cov(data[Ctrl,1:],rowvar=0);\n",
    "if 1:\n",
    "    # test statistics\n",
    "    rPB=0.30  # correlation between PIQ and brain volume\n",
    "    rVP=0.5   # correlation between VIQ and PIQ\n",
    "    sV=sP=15  # standard deviation of VIQ and PIQ\n",
    "    sB=100    # standard deviation of brain volume\n",
    "    muA=np.array([100,110,1100]);\n",
    "    muC=np.array([110,110,1100]);\n",
    "    VA=np.array([[sV*sV,rVP*sV*sP,0],        [rVP*sV*sP,sP*sP,rPB*sP*sB],[0,rPB*sP*sB,sB*sB]])\n",
    "    VC=np.array([[sV*sV,rVP*sV*sP,rPB*sV*sB],[rVP*sV*sP,sP*sP,rPB*sP*sB],[rPB*sV*sB,rPB*sP*sB,sB*sB]])\n",
    "print \"ASD means\";\n",
    "print muA;\n",
    "print \"Ctrl means\";\n",
    "print muC;\n",
    "print \"ASD covariance\";\n",
    "print VA;\n",
    "print \"Ctrl covariance matrix\";\n",
    "print VC;"
   ]
  },
  {
   "cell_type": "markdown",
   "metadata": {},
   "source": [
    "## Iterations\n",
    "<b>N</b>: scalar, initial number of subjects in each group (before matching)\n",
    "\n",
    "### Generate groups\n",
    "<b>muA</b>: vector, mean VIQ, mean PIQ and mean BV for ASD<br>\n",
    "<b>muC</b>: vector, mean VIQ, mean PIQ and mean BV for Controls<br>\n",
    "<b>yA</b>: Nx3 matrix, values generated with mean muA and covariance matrix VA<br>\n",
    "<b>yC</b>: Nx3 matrix, values generated with mean muC and covariance matric VC<br>\n",
    "<b>iA</b>: N vector, with values from 0 to N-1<br>\n",
    "<b>iC</b>: N vector, with values from 0 to N-1<br>\n",
    "\n",
    "### Generate FIQ values\n",
    "<b>FA</b>: N vector, with FIQ values for ASD<br>\n",
    "<b>FC</b>: N vector, with FIQ values for Controls<br>\n",
    "\n",
    "### Get the largest min and the smallest max to truncate the distributions\n",
    "<b>minAC</b>: largest min between min(FIQ) ASD and min(FIQ) Controls<br>\n",
    "<b>maxAC</b>: smallest max between max(FIQ) ASD and max(FIQ) Controls<br>\n",
    "<br>\n",
    "Now, the indices corresponding to samples in both groups where FIQ&lt;minAC and FIQ&gt;maxAC are deleted from <b>iA</b> and <b>iC</b>.<br>\n",
    "<br>\n",
    "<b>TMP</b>: 3x(Nia+Nic) matrix, 1st row: FIQ values, 2nd row: 1 for ASD, 2 for Ctrl, 3rd row: subject index in yA and yC (depending on the value of the 2nd row)<br>\n",
    "<b>ind</b>: (Nia+Nic) vector with the re-arrangement of the indices that would sort TMP by FIQ.<br>\n",
    "<br>\n",
    "Now, the samples are matched by FIQ, and the new indices of matched subjects are placed in iA and iC<br>\n",
    "<br>"
   ]
  },
  {
   "cell_type": "code",
   "execution_count": 32,
   "metadata": {
    "collapsed": false
   },
   "outputs": [
    {
     "name": "stdout",
     "output_type": "stream",
     "text": [
      "0.3 100 47.792 1103.79972133 1092.7763359 0.137\n",
      "0.3 300 144.133 1103.69732363 1093.26768738 0.232\n",
      "0.3 500 240.321 1103.26429118 1093.35419866 0.285\n",
      "0.3 700 337.433 1103.37639063 1092.94674312 0.385\n",
      "0.3 900 433.677 1103.32670519 1093.20698951 0.43\n",
      "0.3 1100 529.694 1103.41178595 1093.12940042 0.52\n",
      "0.3 1300 627.434 1103.34486875 1093.27555552 0.535\n",
      "0.3 1500 722.374 1103.28451022 1093.22046534 0.621\n",
      "0.35 100 47.586 1104.37580854 1091.99566397 0.141\n",
      "0.35 300 144.07 1104.07361497 1092.19070361 0.272\n",
      "0.35 500 240.414 1104.02491364 1092.03901926 0.356\n",
      "0.35 700 336.999 1103.98721927 1092.20764488 0.449\n",
      "0.35 900 433.799 1103.79278396 1092.265035 0.522\n",
      "0.35 1100 530.401 1103.87318853 1091.98516906 0.63\n",
      "0.35 1300 626.895 1104.06454023 1092.16658838 0.687\n",
      "0.35 1500 722.936 1104.05692331 1092.14774272 0.755\n",
      "0.4 100 47.477 1104.68951939 1090.37561877 0.161\n",
      "0.4 300 144.022 1103.95917637 1090.97833982 0.292\n",
      "0.4 500 240.472 1104.34710812 1091.18649224 0.412\n",
      "0.4 700 337.139 1104.14150989 1090.97222382 0.531\n",
      "0.4 900 433.096 1104.40714706 1091.17849951 0.626\n",
      "0.4 1100 530.445 1104.51740426 1090.89216843 0.721\n",
      "0.4 1300 626.235 1104.39856282 1091.03703571 0.786\n",
      "0.4 1500 722.537 1104.41196923 1091.00078755 0.834\n",
      "0.45 100 47.501 1105.10721376 1088.91854536 0.174\n",
      "0.45 300 143.873 1105.31969108 1089.64096853 0.355\n",
      "0.45 500 240.771 1105.08313255 1089.97576482 0.514\n",
      "0.45 700 336.719 1105.17527977 1089.99664503 0.641\n",
      "0.45 900 433.153 1104.75423674 1089.9441848 0.722\n",
      "0.45 1100 529.948 1105.12458288 1089.89354313 0.811\n",
      "0.45 1300 626.312 1105.1289242 1089.61605021 0.882\n",
      "0.45 1500 722.688 1105.21798834 1089.93977547 0.917\n",
      "0.5 100 47.747 1105.05635107 1087.53383204 0.202\n",
      "0.5 300 144.142 1105.52917196 1088.59634309 0.408\n",
      "0.5 500 240.515 1105.72953985 1088.8691338 0.589\n",
      "0.5 700 336.716 1105.55157352 1088.66305541 0.721\n",
      "0.5 900 433.113 1105.70121584 1088.77353741 0.815\n",
      "0.5 1100 530.65 1105.4300571 1088.59307479 0.879\n",
      "0.5 1300 626.341 1105.57906494 1088.71169149 0.921\n",
      "0.5 1500 722.196 1105.65978685 1088.68124184 0.958\n"
     ]
    }
   ],
   "source": [
    "# 3. Iterations\n",
    "flagSave=0;\n",
    "replications=1000;\n",
    "\n",
    "#rPB=0.30  # correlation between PIQ and brain volume\n",
    "rVP=0.5   # correlation between VIQ and PIQ\n",
    "sV=sP=15  # standard deviation of VIQ and PIQ\n",
    "sB=100    # standard deviation of brain volume\n",
    "muA=np.array([100,110,1100]);\n",
    "muC=np.array([110,110,1100]);\n",
    "\n",
    "for irPB in range(0,5,1):\n",
    "    rPB=0.30+0.05*irPB;\n",
    "    VA=np.array([[sV*sV,rVP*sV*sP,0],        [rVP*sV*sP,sP*sP,rPB*sP*sB],[0,rPB*sP*sB,sB*sB]])\n",
    "    VC=np.array([[sV*sV,rVP*sV*sP,rPB*sV*sB],[rVP*sV*sP,sP*sP,rPB*sP*sB],[rPB*sV*sB,rPB*sP*sB,sB*sB]])\n",
    "    \n",
    "    for N in range(100,1600,200):\n",
    "        T=[]\n",
    "        P=[]\n",
    "        mean_N=0;\n",
    "        mean_yMA=0;\n",
    "        mean_yMC=0;\n",
    "        for j in range(0,replications):\n",
    "            # generate ASD and Ctrl subjects after the observed\n",
    "            # covariance matrices\n",
    "            yA=np.random.multivariate_normal(muA,VA,size=N)\n",
    "            yC=np.random.multivariate_normal(muC,VC,size=N)\n",
    "            if flagSave:\n",
    "                np.savetxt(\"/Users/roberto/Desktop/sim-unmatched-md-800.txt\",np.concatenate([np.concatenate([yA.T,np.ones([1,yA.T.shape[1]])]),np.concatenate([yC.T,2*np.ones([1,yC.T.shape[1]])])],axis=1).T,fmt=\"%g\",delimiter=\"\\t\");\n",
    "        \n",
    "            # generate FIQ values\n",
    "            FA=0.5*yA[:,0]+0.5*yA[:,1]\n",
    "            FC=0.5*yC[:,0]+0.5*yC[:,1]\n",
    "    \n",
    "            # get the largest min, and the smallest max to truncate the distributions\n",
    "            minA=np.min(FA);\n",
    "            maxA=np.max(FA);\n",
    "            minC=np.min(FC);\n",
    "            maxC=np.max(FC);\n",
    "            if(minA<minC):\n",
    "                minAC=minC\n",
    "            else:\n",
    "                minAC=minA\n",
    "            if(maxA>maxC):\n",
    "                maxAC=maxC\n",
    "            else:\n",
    "                maxAC=maxA\n",
    "            iA=range(0,N)\n",
    "            iC=range(0,N)\n",
    "            iA=np.delete(iA,np.nonzero(FA<minAC))\n",
    "            iA=np.delete(iA,np.nonzero(FA>maxAC))\n",
    "            iC=np.delete(iC,np.nonzero(FC<minAC))\n",
    "            iC=np.delete(iC,np.nonzero(FC>maxAC))\n",
    "        \n",
    "            # concatenate both populations and sort them by FIQ\n",
    "            TMPA=np.concatenate([[FA[iA]],[1*np.ones(iA.shape,dtype=int)],[iA]])\n",
    "            TMPC=np.concatenate([[FC[iC]],[2*np.ones(iC.shape,dtype=int)],[iC]])\n",
    "            TMP=np.concatenate([TMPA,TMPC],axis=1)\n",
    "            ind=np.argsort(TMP)[0,:]\n",
    "        \n",
    "            # pick one from one group, one from the other\n",
    "            MATCHED=np.array([TMP[:,ind[0]]]);\n",
    "            old=TMP[1,ind[0]];\n",
    "            for i in range(1,TMP.shape[1]):\n",
    "                if TMP[1,ind[i]]!=old:\n",
    "                    old=TMP[1,ind[i]]\n",
    "                    MATCHED=np.concatenate([MATCHED,np.array([TMP[:,ind[i]]])])\n",
    "            iA=MATCHED[np.nonzero(MATCHED[:,1]==1)[0],2].astype('int');\n",
    "            iC=MATCHED[np.nonzero(MATCHED[:,1]==2)[0],2].astype('int');\n",
    "            yMA=yA[iA,:].T\n",
    "            yMC=yC[iC,:].T\n",
    "            if flagSave:\n",
    "                np.savetxt(\"/Users/roberto/Desktop/sim-matched-md-800.txt\",np.concatenate([np.concatenate([yMA,np.ones([1,yMA.shape[1]])]),np.concatenate([yMC,2*np.ones([1,yMC.shape[1]])])],axis=1).T,fmt=\"%g\",delimiter=\"\\t\");\n",
    "        \n",
    "            # compare brain volume between groups\n",
    "            t,prob=sst.ttest_ind(yMA[2,:],yMC[2,:]);\n",
    "            #print \"t:\",t,\"prob:\",prob\n",
    "            T=T+[t]\n",
    "            P=P+[prob/2.0]\n",
    "            \n",
    "            mean_N=mean_N+yMA.shape[1];\n",
    "            mean_yMA=mean_yMA+np.mean(yMA[2,:]);\n",
    "            mean_yMC=mean_yMC+np.mean(yMC[2,:]);\n",
    "    \n",
    "        # plot the matched distributions\n",
    "        #pylab.figure()\n",
    "        #pylab.hist(yMA[2,:],cumulative=1,histtype='step')\n",
    "        #pylab.hist(yMC[2,:],cumulative=1,histtype='step')\n",
    "        print rPB,N,mean_N/float(replications),mean_yMA/float(replications),mean_yMC/float(replications),np.sum(np.array(P)<0.05)/float(replications)"
   ]
  },
  {
   "cell_type": "code",
   "execution_count": 19,
   "metadata": {
    "collapsed": false
   },
   "outputs": [
    {
     "data": {
      "text/plain": [
       "1097.5664296710145"
      ]
     },
     "execution_count": 19,
     "metadata": {},
     "output_type": "execute_result"
    }
   ],
   "source": [
    "np.mean(yMC[2,:])"
   ]
  },
  {
   "cell_type": "code",
   "execution_count": 468,
   "metadata": {
    "collapsed": false
   },
   "outputs": [
    {
     "data": {
      "text/plain": [
       "array([  1.07355019e+02,   1.06579926e+02,   1.09756988e+06])"
      ]
     },
     "execution_count": 468,
     "metadata": {},
     "output_type": "execute_result"
    }
   ],
   "source": [
    "np.mean(data[:,1:],axis=0)"
   ]
  },
  {
   "cell_type": "code",
   "execution_count": 505,
   "metadata": {
    "collapsed": false
   },
   "outputs": [
    {
     "data": {
      "text/plain": [
       "array([[ 1.        ,  0.51080958,  0.26018955],\n",
       "       [ 0.51080958,  1.        ,  0.19125276],\n",
       "       [ 0.26018955,  0.19125276,  1.        ]])"
      ]
     },
     "execution_count": 505,
     "metadata": {},
     "output_type": "execute_result"
    }
   ],
   "source": [
    "np.corrcoef(yMC,rowvar=1)"
   ]
  },
  {
   "cell_type": "code",
   "execution_count": 508,
   "metadata": {
    "collapsed": false
   },
   "outputs": [
    {
     "data": {
      "text/plain": [
       "<matplotlib.image.AxesImage at 0x116e4d990>"
      ]
     },
     "execution_count": 508,
     "metadata": {},
     "output_type": "execute_result"
    },
    {
     "data": {
      "image/png": "[encoded data removed]"
     },
     "metadata": {},
     "output_type": "display_data"
    }
   ],
   "source": [
    "pylab.imshow(np.corrcoef(yMC,rowvar=1),interpolation='nearest')"
   ]
  },
  {
   "cell_type": "code",
   "execution_count": null,
   "metadata": {
    "collapsed": false
   },
   "outputs": [],
   "source": []
  }
 ],
 "metadata": {
  "kernelspec": {
   "display_name": "Python 3",
   "language": "python",
   "name": "python3"
  },
  "language_info": {
   "codemirror_mode": {
    "name": "ipython",
    "version": 3
   },
   "file_extension": ".py",
   "mimetype": "text/x-python",
   "name": "python",
   "nbconvert_exporter": "python",
   "pygments_lexer": "ipython3",
   "version": "3.6.4"
  }
 },
 "nbformat": 4,
 "nbformat_minor": 2
}
