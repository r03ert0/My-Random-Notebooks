{
 "cells": [
  {
   "cell_type": "code",
   "execution_count": 24,
   "metadata": {
    "collapsed": true
   },
   "outputs": [],
   "source": [
    "%matplotlib inline\n",
    "import numpy as np\n",
    "import scipy as sp\n",
    "import pandas as pd\n",
    "import matplotlib.pyplot as plt"
   ]
  },
  {
   "cell_type": "code",
   "execution_count": 242,
   "metadata": {
    "collapsed": true
   },
   "outputs": [],
   "source": [
    "a = 1e-6\n",
    "l = 1\n",
    "Lmin = 0"
   ]
  },
  {
   "cell_type": "code",
   "execution_count": 243,
   "metadata": {
    "collapsed": true
   },
   "outputs": [],
   "source": [
    "def NfibForW2(W):\n",
    "    Lmax=np.power(W,1/3)\n",
    "    Ltot=W/a\n",
    "    x=np.linspace(Lmin,Lmax,100000)\n",
    "    y=np.exp(-l*x)\n",
    "    LtotTmp=np.dot(x,y)\n",
    "    adj = Ltot/LtotTmp\n",
    "    y=np.exp(-l*x)*adj\n",
    "    Nfib=np.sum(y)\n",
    "    return Nfib"
   ]
  },
  {
   "cell_type": "code",
   "execution_count": 269,
   "metadata": {
    "collapsed": true
   },
   "outputs": [],
   "source": [
    "def NfibForW(W):\n",
    "    Lmax=np.power(W,1/3)\n",
    "    Ltot=W/a\n",
    "    num = (1-np.exp(-l*Lmax))\n",
    "    den = (1-np.exp(-l*Lmax)*(l*Lmax+1))\n",
    "    Nfib = Ltot*l*num/den\n",
    "    print (Nfib,Ltot*l/2.0)\n",
    "    return Nfib"
   ]
  },
  {
   "cell_type": "code",
   "execution_count": 270,
   "metadata": {},
   "outputs": [
    {
     "name": "stdout",
     "output_type": "stream",
     "text": [
      "2392211.19118 500000.0\n",
      "W: 1 Nfib: 2392211.19118\n",
      "3991620.33907 1000000.0\n",
      "W: 2 Nfib: 3991620.33907\n",
      "5419947.21905 1500000.0\n",
      "W: 3 Nfib: 5419947.21905\n",
      "6756359.40981 2000000.0\n",
      "W: 4 Nfib: 6756359.40981\n",
      "8033106.41618 2500000.0\n",
      "W: 5 Nfib: 8033106.41618\n",
      "9267230.83256 3000000.0\n",
      "W: 6 Nfib: 9267230.83256\n",
      "10469063.0892 3500000.0\n",
      "W: 7 Nfib: 10469063.0892\n",
      "11645430.7348 4000000.0\n",
      "W: 8 Nfib: 11645430.7348\n",
      "12801125.1262 4500000.0\n",
      "W: 9 Nfib: 12801125.1262\n",
      "13939660.5931 5000000.0\n",
      "W: 10 Nfib: 13939660.5931\n",
      "104733059.745 50000000.0\n",
      "W: 100 Nfib: 104733059.745\n"
     ]
    }
   ],
   "source": [
    "Warr = [1,2,3,4,5,6,7,8,9,10,100]\n",
    "Nfibarr = []\n",
    "for W in Warr:\n",
    "    Nfib = NfibForW(W)\n",
    "    print('W:',W,'Nfib:',Nfib)\n",
    "    Nfibarr.append(Nfib)"
   ]
  },
  {
   "cell_type": "code",
   "execution_count": 250,
   "metadata": {},
   "outputs": [
    {
     "data": {
      "text/plain": [
       "[<matplotlib.lines.Line2D at 0x10dd07eb8>]"
      ]
     },
     "execution_count": 250,
     "metadata": {},
     "output_type": "execute_result"
    },
    {
     "data": {
      "image/png": "[encoded data removed]",
      "text/plain": [
       "<matplotlib.figure.Figure at 0x10dcdfe80>"
      ]
     },
     "metadata": {},
     "output_type": "display_data"
    }
   ],
   "source": [
    "plt.plot(Warr,Nfibarr)"
   ]
  },
  {
   "cell_type": "code",
   "execution_count": 208,
   "metadata": {},
   "outputs": [
    {
     "data": {
      "text/plain": [
       "[<matplotlib.lines.Line2D at 0x10dc95240>]"
      ]
     },
     "execution_count": 208,
     "metadata": {},
     "output_type": "execute_result"
    },
    {
     "data": {
      "image/png": "[encoded data removed]",
      "text/plain": [
       "<matplotlib.figure.Figure at 0x10dd45f60>"
      ]
     },
     "metadata": {},
     "output_type": "display_data"
    }
   ],
   "source": [
    "plt.plot(Warr,N2)"
   ]
  },
  {
   "cell_type": "code",
   "execution_count": null,
   "metadata": {
    "collapsed": true
   },
   "outputs": [],
   "source": []
  }
 ],
 "metadata": {
  "kernelspec": {
   "display_name": "Python 3",
   "language": "python",
   "name": "python3"
  },
  "language_info": {
   "codemirror_mode": {
    "name": "ipython",
    "version": 3
   },
   "file_extension": ".py",
   "mimetype": "text/x-python",
   "name": "python",
   "nbconvert_exporter": "python",
   "pygments_lexer": "ipython3",
   "version": "3.6.3"
  }
 },
 "nbformat": 4,
 "nbformat_minor": 2
}
