{
 "cells": [
  {
   "cell_type": "markdown",
   "metadata": {},
   "source": [
    "# PyZotero\n",
    "\n",
    "Roberto Toro, Octobre 2018\n",
    "\n",
    "I wanted to get rid of pdfs I don't use. No way to do it through GUIs other than clicking on the files one by one.\n",
    "\n",
    "Enter PyZotero."
   ]
  },
  {
   "cell_type": "markdown",
   "metadata": {},
   "source": [
    "PyZotero doc is available at\n",
    "https://pyzotero.readthedocs.io/en/latest/"
   ]
  },
  {
   "cell_type": "code",
   "execution_count": 1,
   "metadata": {},
   "outputs": [],
   "source": [
    "#!pip install pyzotero\n",
    "from pyzotero import zotero"
   ]
  },
  {
   "cell_type": "code",
   "execution_count": 2,
   "metadata": {},
   "outputs": [],
   "source": [
    "#!pip install humanfriendly\n",
    "import humanfriendly"
   ]
  },
  {
   "cell_type": "code",
   "execution_count": 3,
   "metadata": {},
   "outputs": [],
   "source": [
    "# personal library ID from https://www.zotero.org/settings/keys\n",
    "lid = 2260451"
   ]
  },
  {
   "cell_type": "code",
   "execution_count": 4,
   "metadata": {},
   "outputs": [],
   "source": [
    "# personal key for MyKeyForPython\n",
    "key = \"9cj4e8clsmjSp5xP1MRHd9sS\""
   ]
  },
  {
   "cell_type": "code",
   "execution_count": 5,
   "metadata": {},
   "outputs": [],
   "source": [
    "zot = zotero.Zotero(lid, 'user', key)"
   ]
  },
  {
   "cell_type": "markdown",
   "metadata": {},
   "source": [
    "### First test"
   ]
  },
  {
   "cell_type": "code",
   "execution_count": 6,
   "metadata": {},
   "outputs": [],
   "source": [
    "items = zot.top(limit=10)"
   ]
  },
  {
   "cell_type": "code",
   "execution_count": 7,
   "metadata": {},
   "outputs": [
    {
     "name": "stdout",
     "output_type": "stream",
     "text": [
      "type: document key: RPQBNK2K title: COMESP report 2018\n",
      "\n",
      "\n",
      "type: journalArticle key: X67M4Q7A title: The Book of Why\n",
      "key: 2IBUDVEF enclosure: {'type': 'application/pdf', 'href': 'https://api.zotero.org/users/2260451/items/2IBUDVEF/file/view', 'title': 'Judea Pearl, Dana Mackenzie - The Book of Why_ The New Science of Cause and Effect (2018, Basic Books)-3.pdf', 'length': 7620738}\n",
      "\n",
      "\n",
      "type: journalArticle key: 3PGVTDG9 title: Feature-based 3D morphing based on geometrically constrained spherical parameterization\n",
      "\n",
      "\n",
      "type: journalArticle key: FW7CGXXX title: auzias2013\n",
      "\n",
      "\n",
      "type: journalArticle key: HSACTKAS title: Developability of triangle meshes\n",
      "\n",
      "\n",
      "type: journalArticle key: 3Z3WZ9W6 title: Laplace-Beltrami eigenfunctions: Towards an algorithm that “understands” geometry\n",
      "\n",
      "\n",
      "type: journalArticle key: 2RAK9QKZ title: Estimation of complex effect-size distributions using summary-level statistics from genome-wide association studies across 32 complex traits\n",
      "key: 5EQTTGI3 enclosure: {'type': 'application/pdf', 'href': 'https://api.zotero.org/users/2260451/items/5EQTTGI3/file/view', 'title': '5EQTTGI3.pdf', 'length': 5883258}\n",
      "\n",
      "\n",
      "type: journalArticle key: EETGS3WJ title: siggraph17 Course Notes: Computing functional maps\n",
      "\n",
      "\n",
      "type: journalArticle key: 9E97W4SI title: Automatic Detection of Key Innovations, Rate Shifts, and Diversity-Dependence on Phylogenetic Trees\n",
      "\n",
      "\n",
      "type: journalArticle key: NFR8JFXZ title: Hominin Brain Evolution: The Only Way Is Up?\n",
      "\n",
      "\n"
     ]
    }
   ],
   "source": [
    "for item in items:\n",
    "    print(\"type:\",item['data']['itemType'],\"key:\",item['data']['key'], \"title:\", item['data']['title'])\n",
    "    try:\n",
    "        chi = zot.children(item['key'])\n",
    "        enc = chi[0]['links']['enclosure']\n",
    "        print('key:',chi[0]['key'],'enclosure:',enc)\n",
    "    except:\n",
    "        pass\n",
    "    print(\"\\n\")"
   ]
  },
  {
   "cell_type": "markdown",
   "metadata": {},
   "source": [
    "### Delete a file"
   ]
  },
  {
   "cell_type": "code",
   "execution_count": 48,
   "metadata": {},
   "outputs": [],
   "source": [
    "# This is the key of a pdf file that was attached to my COMESP report from 2018\n",
    "# After execution, it was sent to the trash\n",
    "zot.delete_item(zot.item(\"7Y62GZPK\"))"
   ]
  },
  {
   "cell_type": "markdown",
   "metadata": {},
   "source": [
    "### Get all my data"
   ]
  },
  {
   "cell_type": "code",
   "execution_count": 8,
   "metadata": {},
   "outputs": [
    {
     "data": {
      "text/plain": [
       "3181"
      ]
     },
     "execution_count": 8,
     "metadata": {},
     "output_type": "execute_result"
    }
   ],
   "source": [
    "nitems = zot.count_items()\n",
    "nitems"
   ]
  },
  {
   "cell_type": "code",
   "execution_count": 9,
   "metadata": {},
   "outputs": [],
   "source": [
    "items = zot.everything(zot.items())\n",
    "# execution started at 8.10am"
   ]
  },
  {
   "cell_type": "code",
   "execution_count": 10,
   "metadata": {},
   "outputs": [
    {
     "data": {
      "text/plain": [
       "3181"
      ]
     },
     "execution_count": 10,
     "metadata": {},
     "output_type": "execute_result"
    }
   ],
   "source": [
    "len(items)"
   ]
  },
  {
   "cell_type": "code",
   "execution_count": 12,
   "metadata": {},
   "outputs": [],
   "source": [
    "import json"
   ]
  },
  {
   "cell_type": "code",
   "execution_count": 25,
   "metadata": {},
   "outputs": [],
   "source": [
    "# Make the zotero directory\n",
    "#!mkdir \"zotero\""
   ]
  },
  {
   "cell_type": "code",
   "execution_count": 38,
   "metadata": {},
   "outputs": [],
   "source": [
    "# Save all entries\n",
    "f=open('zotero.json','w')\n",
    "json.dump(items,f)\n",
    "f.close()"
   ]
  },
  {
   "cell_type": "code",
   "execution_count": 36,
   "metadata": {},
   "outputs": [
    {
     "name": "stdout",
     "output_type": "stream",
     "text": [
      "\"The Book of Why\"\n",
      "  key:    2IBUDVEF\n",
      "  length: 7.62 MB\n",
      "  title:  Judea Pearl, Dana Mackenzie - The Book of Why_ The New Science of Cause and Effect (2018, Basic Books)-3.pdf\n",
      "\n"
     ]
    }
   ],
   "source": [
    "for item in items[0:5]:\n",
    "    # save the item\n",
    "    itemKey = item['key']\n",
    "    f=open('zotero/'+itemKey+'.json','w')\n",
    "    json.dump(item,f)\n",
    "    f.close()\n",
    "\n",
    "    itemType = item['data']['itemType']\n",
    "    key = item['data']['key']\n",
    "    title = item['data']['title']\n",
    "    try:\n",
    "        chi = zot.children(key)\n",
    "        enc = chi[0]['links']['enclosure']\n",
    "        if int(enc['length']) > 0:\n",
    "            # save child info\n",
    "            childKey = chi[0]['key']\n",
    "            f=open('zotero/'+childKey+'.child.json','w')\n",
    "            json.dump(enc,f)\n",
    "            f.close()\n",
    "            print(\"\\\"{}\\\"\".format(title))\n",
    "            print(\"  key:    {}\".format(childKey))\n",
    "            print(\"  length: {}\".format(humanfriendly.format_size(enc['length'])))\n",
    "            print(\"  title:  {}\".format(enc['title']))\n",
    "            print()\n",
    "    except:\n",
    "        pass"
   ]
  },
  {
   "cell_type": "code",
   "execution_count": 35,
   "metadata": {},
   "outputs": [
    {
     "data": {
      "text/plain": [
       "{'type': 'application/pdf',\n",
       " 'href': 'https://api.zotero.org/users/2260451/items/2IBUDVEF/file/view',\n",
       " 'title': 'Judea Pearl, Dana Mackenzie - The Book of Why_ The New Science of Cause and Effect (2018, Basic Books)-3.pdf',\n",
       " 'length': 7620738}"
      ]
     },
     "execution_count": 35,
     "metadata": {},
     "output_type": "execute_result"
    }
   ],
   "source": [
    "enc"
   ]
  },
  {
   "cell_type": "code",
   "execution_count": null,
   "metadata": {},
   "outputs": [],
   "source": []
  }
 ],
 "metadata": {
  "kernelspec": {
   "display_name": "Python 3",
   "language": "python",
   "name": "python3"
  },
  "language_info": {
   "codemirror_mode": {
    "name": "ipython",
    "version": 3
   },
   "file_extension": ".py",
   "mimetype": "text/x-python",
   "name": "python",
   "nbconvert_exporter": "python",
   "pygments_lexer": "ipython3",
   "version": "3.6.5"
  }
 },
 "nbformat": 4,
 "nbformat_minor": 2
}
