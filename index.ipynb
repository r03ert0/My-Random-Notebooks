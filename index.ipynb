{
 "cells": [
  {
   "cell_type": "markdown",
   "metadata": {},
   "source": [
    "# My Random Notebooks\n",
    "\n",
    "## Valparaíso workshops\n",
    "* [Workshop 1](Simple Neuroimaging.ipynb): Simple neuroimaging analyses using online data\n",
    "* [Workshop 2](Simple Genomics.ipynb): Simple genomics analyses using ADNI data\n",
    "* [Workshop 3](Reproducible Research.ipynb): Themes and tools for reproducible research\n",
    "* [Workshop 4](Scientific Publication.ipynb): Themes and tools for scientific publication\n",
    "\n",
    "## Simulations\n",
    "* [Lefkovitch Neurogenesis](Leftkovich Neurogenesis.ipynb): Lefkovitch model of neurogenesis from different neuronal progenitors\n",
    "* [Sherley's proliferation](Sherley proliferation.ipynb): Sherley's equation for cell proliferation\n",
    "* [We are all a big family](We are all a big family.ipynb): Simulation of inheritable traits\n",
    "* [Phylogenetic Regression](Phylogenetic regression.ipynb): Generalised Least Squares method incorporating Phylogenetic structure."
   ]
  },
  {
   "cell_type": "code",
   "execution_count": null,
   "metadata": {
    "collapsed": true
   },
   "outputs": [],
   "source": []
  }
 ],
 "metadata": {
  "anaconda-cloud": {},
  "kernelspec": {
   "display_name": "Python 3",
   "language": "python",
   "name": "python3"
  },
  "language_info": {
   "codemirror_mode": {
    "name": "ipython",
    "version": 3
   },
   "file_extension": ".py",
   "mimetype": "text/x-python",
   "name": "python",
   "nbconvert_exporter": "python",
   "pygments_lexer": "ipython3",
   "version": "3.6.4"
  }
 },
 "nbformat": 4,
 "nbformat_minor": 2
}
